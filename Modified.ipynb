{
 "cells": [
  {
   "cell_type": "code",
   "execution_count": null,
   "metadata": {},
   "outputs": [],
   "source": [
    "### Print out the top five softmax probabilities for the predictions on the German traffic sign images found on the web. \n",
    "### Feel free to use as many code cells as needed.\n",
    "\n",
    "\n",
    "print(top_k_out)\n",
    "\n",
    "fig, ax = plt.subplots(images_number,2, figsize=(10,120))\n",
    "ax = ax.ravel()\n",
    "\n",
    "for idx, index in enumerate(top_k_out.indices):\n",
    "    print(label_name [Labels[idx]])\n",
    "    print(label_name [index[0]])\n",
    "    print()\n",
    "    \n",
    "\n",
    "\n",
    "for i in range(len(softmax_out)*2):\n",
    "    if i%2 == 0:\n",
    "        ax[i].imshow(test_images_added[i//2])\n",
    "        ax[i].set_xlabel(label_name[Final[i//2]])\n",
    "    else:\n",
    "        ax[i].bar(np.arange(n_classes), softmax_out[(i-1)//2])\n",
    "        ax[i].set_ylabel('Softmax probability')\n",
    "        ax[i].set_xlabel(label_name()[top_k_out.indices[(i-1)//2][0]])"
   ]
  }
 ],
 "metadata": {
  "kernelspec": {
   "display_name": "Python 3",
   "language": "python",
   "name": "python3"
  },
  "language_info": {
   "codemirror_mode": {
    "name": "ipython",
    "version": 3
   },
   "file_extension": ".py",
   "mimetype": "text/x-python",
   "name": "python",
   "nbconvert_exporter": "python",
   "pygments_lexer": "ipython3",
   "version": "3.5.2"
  },
  "widgets": {
   "state": {},
   "version": "1.1.2"
  }
 },
 "nbformat": 4,
 "nbformat_minor": 2
}
